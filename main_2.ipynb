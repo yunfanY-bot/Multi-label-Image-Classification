{
 "cells": [
  {
   "cell_type": "markdown",
   "metadata": {},
   "source": [
    "# Assignment 3 Part 1: Developing Your Own Classifier"
   ]
  },
  {
   "cell_type": "code",
   "execution_count": 1,
   "metadata": {},
   "outputs": [],
   "source": [
    "import os\n",
    "import numpy as np\n",
    "import torch\n",
    "import torch.nn as nn\n",
    "import torchvision\n",
    "\n",
    "from torchvision import transforms\n",
    "from sklearn.metrics import average_precision_score\n",
    "from PIL import Image, ImageDraw\n",
    "import matplotlib.pyplot as plt\n",
    "from kaggle_submission import output_submission_csv\n",
    "from classifier import SimpleClassifier, Classifier#, AlexNet\n",
    "from voc_dataloader import VocDataset, VOC_CLASSES\n",
    "\n",
    "\n",
    "%matplotlib inline\n",
    "%load_ext autoreload\n",
    "%autoreload 2"
   ]
  },
  {
   "cell_type": "code",
   "execution_count": 2,
   "metadata": {},
   "outputs": [
    {
     "data": {
      "text/plain": [
       "<torch._C.Generator at 0x7fd31059cbf0>"
      ]
     },
     "execution_count": 2,
     "metadata": {},
     "output_type": "execute_result"
    }
   ],
   "source": [
    "torch.manual_seed(17)"
   ]
  },
  {
   "cell_type": "markdown",
   "metadata": {},
   "source": [
    "# Part 1B: Design your own network\n",
    "\n",
    "In this notebook, your task is to create and train your own model for multi-label classification on VOC Pascal.\n",
    "\n",
    "## What to do\n",
    "1. You will make change on network architecture in ```classifier.py```.\n",
    "2. You may also want to change other hyperparameters to assist your training to get a better performances. Hints will be given in the below instructions.\n",
    "\n",
    "## What to submit\n",
    "Check the submission template for details what to submit. "
   ]
  },
  {
   "cell_type": "code",
   "execution_count": 3,
   "metadata": {},
   "outputs": [],
   "source": [
    "def train_classifier(train_loader, classifier, criterion, optimizer):\n",
    "    classifier.train()\n",
    "    loss_ = 0.0\n",
    "    losses = []\n",
    "    for i, (images, labels) in enumerate(train_loader):\n",
    "        images, labels = images.to(device), labels.to(device)\n",
    "        optimizer.zero_grad()\n",
    "        logits = classifier(images)\n",
    "        loss = criterion(logits, labels)\n",
    "        loss.backward()\n",
    "        optimizer.step()\n",
    "        losses.append(loss)\n",
    "    return torch.stack(losses).mean().item()"
   ]
  },
  {
   "cell_type": "code",
   "execution_count": 4,
   "metadata": {},
   "outputs": [],
   "source": [
    "def test_classifier(test_loader, classifier, criterion, print_ind_classes=True, print_total=True):\n",
    "    classifier.eval()\n",
    "    losses = []\n",
    "    with torch.no_grad():\n",
    "        y_true = np.zeros((0,21))\n",
    "        y_score = np.zeros((0,21))\n",
    "        for i, (images, labels) in enumerate(test_loader):\n",
    "            images, labels = images.to(device), labels.to(device)\n",
    "            logits = classifier(images)\n",
    "            y_true = np.concatenate((y_true, labels.cpu().numpy()), axis=0)\n",
    "            y_score = np.concatenate((y_score, logits.cpu().numpy()), axis=0)\n",
    "            loss = criterion(logits, labels)\n",
    "            losses.append(loss.item())\n",
    "        aps = []\n",
    "        # ignore first class which is background\n",
    "        for i in range(1, y_true.shape[1]):\n",
    "            ap = average_precision_score(y_true[:, i], y_score[:, i])\n",
    "            if print_ind_classes:\n",
    "                print('-------  Class: {:<12}     AP: {:>8.4f}  -------'.format(VOC_CLASSES[i], ap))\n",
    "            aps.append(ap)\n",
    "        \n",
    "        mAP = np.mean(aps)\n",
    "        test_loss = np.mean(losses)\n",
    "        if print_total:\n",
    "            print('mAP: {0:.4f}'.format(mAP))\n",
    "            print('Avg loss: {}'.format(test_loss))\n",
    "        \n",
    "    return mAP, test_loss, aps"
   ]
  },
  {
   "cell_type": "code",
   "execution_count": 5,
   "metadata": {},
   "outputs": [],
   "source": [
    "def plot_losses(train, val, test_frequency, num_epochs):\n",
    "    plt.plot(train, label=\"train\")\n",
    "    indices = [i for i in range(num_epochs) if ((i+1)%test_frequency == 0 or i ==0)]\n",
    "    plt.plot(indices, val, label=\"val\")\n",
    "    plt.title(\"Loss Plot\")\n",
    "    plt.ylabel(\"Loss\")\n",
    "    plt.xlabel(\"Epoch\")\n",
    "    plt.legend()\n",
    "    plt.show()\n",
    "    \n",
    "def plot_mAP(train, val, test_frequency, num_epochs):\n",
    "    indices = [i for i in range(num_epochs) if ((i+1)%test_frequency == 0 or i ==0)]\n",
    "    plt.plot(indices, train, label=\"train\")\n",
    "    plt.plot(indices, val, label=\"val\")\n",
    "    plt.title(\"mAP Plot\")\n",
    "    plt.ylabel(\"mAP\")\n",
    "    plt.xlabel(\"Epoch\")\n",
    "    plt.legend()\n",
    "    plt.show()\n",
    "    "
   ]
  },
  {
   "cell_type": "code",
   "execution_count": 6,
   "metadata": {},
   "outputs": [],
   "source": [
    "\n",
    "def train(classifier, num_epochs, train_loader, val_loader, criterion, optimizer, test_frequency=5):\n",
    "    train_losses = []\n",
    "    train_mAPs = []\n",
    "    val_losses = []\n",
    "    val_mAPs = []\n",
    "\n",
    "    for epoch in range(1,num_epochs+1):\n",
    "        print(\"Starting epoch number \" + str(epoch))\n",
    "        train_loss = train_classifier(train_loader, classifier, criterion, optimizer)\n",
    "        train_losses.append(train_loss)\n",
    "        print(\"Loss for Training on Epoch \" +str(epoch) + \" is \"+ str(train_loss))\n",
    "        if(epoch%test_frequency==0 or epoch==1):\n",
    "            mAP_train, _, _ = test_classifier(train_loader, classifier, criterion, False, False)\n",
    "            train_mAPs.append(mAP_train)\n",
    "            mAP_val, val_loss, _ = test_classifier(val_loader, classifier, criterion)\n",
    "            print('Evaluating classifier')\n",
    "            print(\"Mean Precision Score for Testing on Epoch \" +str(epoch) + \" is \"+ str(mAP_val))\n",
    "            val_losses.append(val_loss)\n",
    "            val_mAPs.append(mAP_val)\n",
    "    \n",
    "    return classifier, train_losses, val_losses, train_mAPs, val_mAPs"
   ]
  },
  {
   "cell_type": "markdown",
   "metadata": {},
   "source": [
    "# Developing Your Own Model"
   ]
  },
  {
   "cell_type": "markdown",
   "metadata": {},
   "source": [
    "### Goal\n",
    "To meet the benchmark for this assignment you will need to improve the network. Note you should have noticed pretrained Alenxt performs really well, but training Alexnet from scratch performs much worse. We hope you can design a better architecture over both the simple classifier and AlexNet to train from scratch.\n",
    "\n",
    "### How to start\n",
    "You may take inspiration from other published architectures and architectures discussed in lecture. However, you are NOT allowed to use predefined models (e.g. models from torchvision) or use pretrained weights. Training must be done from scratch with your own custom model.\n",
    "\n",
    "#### Some hints\n",
    "There are a variety of different approaches you should try to improve performance from the simple classifier:\n",
    "\n",
    "* Network architecture changes\n",
    "    * Number of layers: try adding layers to make your network deeper\n",
    "    * Batch normalization: adding batch norm between layers will likely give you a significant performance increase\n",
    "    * Residual connections: as you increase the depth of your network, you will find that having residual connections like those in ResNet architectures will be helpful\n",
    "* Optimizer: Instead of plain SGD, you may want to add a learning rate schedule, add momentum, or use one of the other optimizers you have learned about like Adam. Check the `torch.optim` package for other optimizers\n",
    "* Data augmentation: You should use the `torchvision.transforms` module to try adding random resized crops and horizontal flips of the input data. Check `transforms.RandomResizedCrop` and `transforms.RandomHorizontalFlip` for this. Feel free to apply more [transforms](https://pytorch.org/docs/stable/torchvision/transforms.html) for data augmentation which can lead to better performance. \n",
    "* Epochs: Once you have found a generally good hyperparameter setting try training for more epochs\n",
    "* Loss function: You might want to add weighting to the `MultiLabelSoftMarginLoss` for classes that are less well represented or experiment with a different loss function\n",
    "\n",
    "\n",
    "\n",
    "#### Note\n",
    "We will soon be providing some initial expectations of mAP values as a function of epoch so you can get an early idea whether your implementation works without waiting a long time for training to converge.\n",
    "\n",
    "### What to submit \n",
    "Submit your best model to Kaggle and save all plots for the writeup.\n"
   ]
  },
  {
   "cell_type": "code",
   "execution_count": 7,
   "metadata": {},
   "outputs": [
    {
     "name": "stderr",
     "output_type": "stream",
     "text": [
      "/Users/aidenyang/Desktop/CS444/assignment3_part1/voc_dataloader.py:137: VisibleDeprecationWarning: Creating an ndarray from ragged nested sequences (which is a list-or-tuple of lists-or-tuples-or ndarrays with different lengths or shapes) is deprecated. If you meant to do this, you must specify 'dtype=object' when creating the ndarray.\n",
      "  np.array(box_indices),\n"
     ]
    }
   ],
   "source": [
    "device = torch.device(\"cuda:0\" if torch.cuda.is_available() else \"cpu\")\n",
    "\n",
    "normalize = transforms.Normalize(mean=[0.485, 0.456, 0.406],\n",
    "                                     std= [0.229, 0.224, 0.225])\n",
    "\n",
    "train_transform = transforms.Compose([\n",
    "            transforms.Resize(227),\n",
    "            transforms.CenterCrop(227),\n",
    "            transforms.RandomResizedCrop(size=227, scale=(0.3,1)),\n",
    "            transforms.RandomPerspective(),\n",
    "            transforms.RandomHorizontalFlip(),\n",
    "            transforms.RandomVerticalFlip(),\n",
    "            transforms.RandomRotation(degrees=(-180,180)),\n",
    "            transforms.ToTensor(),\n",
    "            normalize\n",
    "        ])\n",
    "\n",
    "test_transform = transforms.Compose([\n",
    "            transforms.Resize(227),\n",
    "            transforms.CenterCrop(227),\n",
    "            transforms.ToTensor(),\n",
    "            normalize,\n",
    "        ])\n",
    "\n",
    "ds_train = VocDataset('VOCdevkit_2007/VOC2007/','train',train_transform)\n",
    "ds_val = VocDataset('VOCdevkit_2007/VOC2007/','val',test_transform)\n",
    "ds_test = VocDataset('VOCdevkit_2007/VOC2007test/','test', test_transform)\n"
   ]
  },
  {
   "cell_type": "code",
   "execution_count": 8,
   "metadata": {},
   "outputs": [],
   "source": [
    "num_epochs = 220\n",
    "test_frequency = 5\n",
    "batch_size = 64\n",
    "\n",
    "train_loader = torch.utils.data.DataLoader(dataset=ds_train,\n",
    "                                               batch_size=batch_size, \n",
    "                                               shuffle=True,\n",
    "                                               num_workers=1)\n",
    "\n",
    "val_loader = torch.utils.data.DataLoader(dataset=ds_val,\n",
    "                                               batch_size=batch_size, \n",
    "                                               shuffle=True,\n",
    "                                               num_workers=1)\n",
    "\n",
    "test_loader = torch.utils.data.DataLoader(dataset=ds_test,\n",
    "                                               batch_size=batch_size, \n",
    "                                               shuffle=False,\n",
    "                                               num_workers=1)"
   ]
  },
  {
   "cell_type": "code",
   "execution_count": 9,
   "metadata": {},
   "outputs": [],
   "source": [
    "classifier = Classifier().to(device)"
   ]
  },
  {
   "cell_type": "code",
   "execution_count": 10,
   "metadata": {},
   "outputs": [
    {
     "name": "stdout",
     "output_type": "stream",
     "text": [
      "Classifier(\n",
      "  (conv1_1): Conv2d(3, 64, kernel_size=(3, 3), stride=(1, 1), padding=(1, 1))\n",
      "  (conv1_bn1): BatchNorm2d(64, eps=1e-05, momentum=0.1, affine=True, track_running_stats=True)\n",
      "  (conv1_2): Conv2d(64, 64, kernel_size=(3, 3), stride=(1, 1), padding=(1, 1))\n",
      "  (conv1_bn2): BatchNorm2d(64, eps=1e-05, momentum=0.1, affine=True, track_running_stats=True)\n",
      "  (conv1_pool): MaxPool2d(kernel_size=(2, 2), stride=(2, 2), padding=0, dilation=1, ceil_mode=False)\n",
      "  (conv2_1): Conv2d(64, 128, kernel_size=(3, 3), stride=(1, 1), padding=(1, 1))\n",
      "  (conv2_bn1): BatchNorm2d(128, eps=1e-05, momentum=0.1, affine=True, track_running_stats=True)\n",
      "  (conv2_2): Conv2d(128, 128, kernel_size=(3, 3), stride=(1, 1), padding=(1, 1))\n",
      "  (conv2_bn2): BatchNorm2d(128, eps=1e-05, momentum=0.1, affine=True, track_running_stats=True)\n",
      "  (conv2_pool): MaxPool2d(kernel_size=(2, 2), stride=(2, 2), padding=0, dilation=1, ceil_mode=False)\n",
      "  (conv3_1): Conv2d(128, 256, kernel_size=(3, 3), stride=(1, 1), padding=(1, 1))\n",
      "  (conv3_bn1): BatchNorm2d(256, eps=1e-05, momentum=0.1, affine=True, track_running_stats=True)\n",
      "  (conv3_2): Conv2d(256, 256, kernel_size=(3, 3), stride=(1, 1), padding=(1, 1))\n",
      "  (conv3_bn2): BatchNorm2d(256, eps=1e-05, momentum=0.1, affine=True, track_running_stats=True)\n",
      "  (conv3_3): Conv2d(256, 256, kernel_size=(3, 3), stride=(1, 1), padding=(1, 1))\n",
      "  (conv3_bn3): BatchNorm2d(256, eps=1e-05, momentum=0.1, affine=True, track_running_stats=True)\n",
      "  (conv3_4): Conv2d(256, 256, kernel_size=(3, 3), stride=(1, 1), padding=(1, 1))\n",
      "  (conv3_bn4): BatchNorm2d(256, eps=1e-05, momentum=0.1, affine=True, track_running_stats=True)\n",
      "  (conv3_pool): MaxPool2d(kernel_size=(2, 2), stride=(2, 2), padding=0, dilation=1, ceil_mode=False)\n",
      "  (conv4_1): Conv2d(256, 512, kernel_size=(3, 3), stride=(1, 1), padding=(1, 1))\n",
      "  (conv4_bn1): BatchNorm2d(512, eps=1e-05, momentum=0.1, affine=True, track_running_stats=True)\n",
      "  (conv4_2): Conv2d(512, 512, kernel_size=(3, 3), stride=(1, 1), padding=(1, 1))\n",
      "  (conv4_bn2): BatchNorm2d(512, eps=1e-05, momentum=0.1, affine=True, track_running_stats=True)\n",
      "  (conv4_3): Conv2d(512, 512, kernel_size=(3, 3), stride=(1, 1), padding=(1, 1))\n",
      "  (conv4_bn3): BatchNorm2d(512, eps=1e-05, momentum=0.1, affine=True, track_running_stats=True)\n",
      "  (conv4_4): Conv2d(512, 512, kernel_size=(3, 3), stride=(1, 1), padding=(1, 1))\n",
      "  (conv4_bn4): BatchNorm2d(512, eps=1e-05, momentum=0.1, affine=True, track_running_stats=True)\n",
      "  (conv4_pool): MaxPool2d(kernel_size=(2, 2), stride=(2, 2), padding=0, dilation=1, ceil_mode=False)\n",
      "  (conv5_1): Conv2d(512, 256, kernel_size=(1, 1), stride=(1, 1), padding=(1, 1))\n",
      "  (conv5_bn1): BatchNorm2d(256, eps=1e-05, momentum=0.1, affine=True, track_running_stats=True)\n",
      "  (conv5_2): Conv2d(256, 256, kernel_size=(1, 1), stride=(1, 1), padding=(1, 1))\n",
      "  (conv5_bn2): BatchNorm2d(256, eps=1e-05, momentum=0.1, affine=True, track_running_stats=True)\n",
      "  (conv5_3): Conv2d(256, 128, kernel_size=(1, 1), stride=(1, 1), padding=(1, 1))\n",
      "  (conv5_bn3): BatchNorm2d(128, eps=1e-05, momentum=0.1, affine=True, track_running_stats=True)\n",
      "  (conv5_4): Conv2d(128, 128, kernel_size=(1, 1), stride=(1, 1), padding=(1, 1))\n",
      "  (conv5_bn4): BatchNorm2d(128, eps=1e-05, momentum=0.1, affine=True, track_running_stats=True)\n",
      "  (conv5_pool): MaxPool2d(kernel_size=(2, 2), stride=(2, 2), padding=0, dilation=1, ceil_mode=False)\n",
      "  (fc1): Linear(in_features=15488, out_features=4096, bias=True)\n",
      "  (drop1): Dropout(p=0.5, inplace=False)\n",
      "  (fc2): Linear(in_features=4096, out_features=512, bias=True)\n",
      "  (drop2): Dropout(p=0.5, inplace=False)\n",
      "  (fc3): Linear(in_features=512, out_features=21, bias=True)\n",
      ")\n"
     ]
    }
   ],
   "source": [
    "print(classifier)"
   ]
  },
  {
   "cell_type": "code",
   "execution_count": null,
   "metadata": {
    "scrolled": false
   },
   "outputs": [
    {
     "name": "stdout",
     "output_type": "stream",
     "text": [
      "Starting epoch number 1\n"
     ]
    },
    {
     "name": "stderr",
     "output_type": "stream",
     "text": [
      "/Users/aidenyang/opt/anaconda3/envs/{CS398}/lib/python3.8/site-packages/torch/nn/functional.py:718: UserWarning: Named tensors and all their associated APIs are an experimental feature and subject to change. Please do not use them for anything important until they are released as stable. (Triggered internally at  /Users/distiller/project/conda/conda-bld/pytorch_1623459044803/work/c10/core/TensorImpl.h:1156.)\n",
      "  return torch.max_pool2d(input, kernel_size, stride, padding, dilation, ceil_mode)\n"
     ]
    },
    {
     "name": "stdout",
     "output_type": "stream",
     "text": [
      "torch.Size([64, 512, 14, 14])\n",
      "torch.Size([64, 256, 16, 16])\n",
      "torch.Size([64, 256, 18, 18])\n",
      "torch.Size([64, 128, 20, 20])\n",
      "torch.Size([64, 128, 22, 22])\n",
      "torch.Size([64, 128, 11, 11])\n",
      "torch.Size([64, 512, 14, 14])\n",
      "torch.Size([64, 256, 16, 16])\n",
      "torch.Size([64, 256, 18, 18])\n",
      "torch.Size([64, 128, 20, 20])\n",
      "torch.Size([64, 128, 22, 22])\n",
      "torch.Size([64, 128, 11, 11])\n",
      "torch.Size([64, 512, 14, 14])\n",
      "torch.Size([64, 256, 16, 16])\n",
      "torch.Size([64, 256, 18, 18])\n",
      "torch.Size([64, 128, 20, 20])\n",
      "torch.Size([64, 128, 22, 22])\n",
      "torch.Size([64, 128, 11, 11])\n",
      "torch.Size([64, 512, 14, 14])\n",
      "torch.Size([64, 256, 16, 16])\n",
      "torch.Size([64, 256, 18, 18])\n",
      "torch.Size([64, 128, 20, 20])\n",
      "torch.Size([64, 128, 22, 22])\n",
      "torch.Size([64, 128, 11, 11])\n",
      "torch.Size([64, 512, 14, 14])\n",
      "torch.Size([64, 256, 16, 16])\n",
      "torch.Size([64, 256, 18, 18])\n",
      "torch.Size([64, 128, 20, 20])\n",
      "torch.Size([64, 128, 22, 22])\n",
      "torch.Size([64, 128, 11, 11])\n",
      "torch.Size([64, 512, 14, 14])\n",
      "torch.Size([64, 256, 16, 16])\n",
      "torch.Size([64, 256, 18, 18])\n",
      "torch.Size([64, 128, 20, 20])\n",
      "torch.Size([64, 128, 22, 22])\n",
      "torch.Size([64, 128, 11, 11])\n",
      "torch.Size([64, 512, 14, 14])\n",
      "torch.Size([64, 256, 16, 16])\n",
      "torch.Size([64, 256, 18, 18])\n",
      "torch.Size([64, 128, 20, 20])\n",
      "torch.Size([64, 128, 22, 22])\n",
      "torch.Size([64, 128, 11, 11])\n",
      "torch.Size([64, 512, 14, 14])\n",
      "torch.Size([64, 256, 16, 16])\n",
      "torch.Size([64, 256, 18, 18])\n",
      "torch.Size([64, 128, 20, 20])\n",
      "torch.Size([64, 128, 22, 22])\n",
      "torch.Size([64, 128, 11, 11])\n",
      "torch.Size([64, 512, 14, 14])\n",
      "torch.Size([64, 256, 16, 16])\n",
      "torch.Size([64, 256, 18, 18])\n",
      "torch.Size([64, 128, 20, 20])\n",
      "torch.Size([64, 128, 22, 22])\n",
      "torch.Size([64, 128, 11, 11])\n",
      "torch.Size([64, 512, 14, 14])\n",
      "torch.Size([64, 256, 16, 16])\n",
      "torch.Size([64, 256, 18, 18])\n",
      "torch.Size([64, 128, 20, 20])\n",
      "torch.Size([64, 128, 22, 22])\n",
      "torch.Size([64, 128, 11, 11])\n",
      "torch.Size([64, 512, 14, 14])\n",
      "torch.Size([64, 256, 16, 16])\n",
      "torch.Size([64, 256, 18, 18])\n",
      "torch.Size([64, 128, 20, 20])\n",
      "torch.Size([64, 128, 22, 22])\n",
      "torch.Size([64, 128, 11, 11])\n",
      "torch.Size([64, 512, 14, 14])\n",
      "torch.Size([64, 256, 16, 16])\n",
      "torch.Size([64, 256, 18, 18])\n",
      "torch.Size([64, 128, 20, 20])\n",
      "torch.Size([64, 128, 22, 22])\n",
      "torch.Size([64, 128, 11, 11])\n",
      "torch.Size([64, 512, 14, 14])\n",
      "torch.Size([64, 256, 16, 16])\n",
      "torch.Size([64, 256, 18, 18])\n",
      "torch.Size([64, 128, 20, 20])\n",
      "torch.Size([64, 128, 22, 22])\n",
      "torch.Size([64, 128, 11, 11])\n",
      "torch.Size([64, 512, 14, 14])\n",
      "torch.Size([64, 256, 16, 16])\n",
      "torch.Size([64, 256, 18, 18])\n",
      "torch.Size([64, 128, 20, 20])\n",
      "torch.Size([64, 128, 22, 22])\n",
      "torch.Size([64, 128, 11, 11])\n",
      "torch.Size([64, 512, 14, 14])\n",
      "torch.Size([64, 256, 16, 16])\n",
      "torch.Size([64, 256, 18, 18])\n",
      "torch.Size([64, 128, 20, 20])\n",
      "torch.Size([64, 128, 22, 22])\n",
      "torch.Size([64, 128, 11, 11])\n",
      "torch.Size([64, 512, 14, 14])\n",
      "torch.Size([64, 256, 16, 16])\n",
      "torch.Size([64, 256, 18, 18])\n",
      "torch.Size([64, 128, 20, 20])\n",
      "torch.Size([64, 128, 22, 22])\n",
      "torch.Size([64, 128, 11, 11])\n",
      "torch.Size([64, 512, 14, 14])\n",
      "torch.Size([64, 256, 16, 16])\n",
      "torch.Size([64, 256, 18, 18])\n",
      "torch.Size([64, 128, 20, 20])\n",
      "torch.Size([64, 128, 22, 22])\n",
      "torch.Size([64, 128, 11, 11])\n",
      "torch.Size([64, 512, 14, 14])\n",
      "torch.Size([64, 256, 16, 16])\n",
      "torch.Size([64, 256, 18, 18])\n",
      "torch.Size([64, 128, 20, 20])\n",
      "torch.Size([64, 128, 22, 22])\n",
      "torch.Size([64, 128, 11, 11])\n",
      "torch.Size([64, 512, 14, 14])\n",
      "torch.Size([64, 256, 16, 16])\n",
      "torch.Size([64, 256, 18, 18])\n",
      "torch.Size([64, 128, 20, 20])\n",
      "torch.Size([64, 128, 22, 22])\n",
      "torch.Size([64, 128, 11, 11])\n",
      "torch.Size([64, 512, 14, 14])\n",
      "torch.Size([64, 256, 16, 16])\n",
      "torch.Size([64, 256, 18, 18])\n",
      "torch.Size([64, 128, 20, 20])\n",
      "torch.Size([64, 128, 22, 22])\n",
      "torch.Size([64, 128, 11, 11])\n",
      "torch.Size([64, 512, 14, 14])\n",
      "torch.Size([64, 256, 16, 16])\n",
      "torch.Size([64, 256, 18, 18])\n",
      "torch.Size([64, 128, 20, 20])\n",
      "torch.Size([64, 128, 22, 22])\n",
      "torch.Size([64, 128, 11, 11])\n",
      "torch.Size([64, 512, 14, 14])\n",
      "torch.Size([64, 256, 16, 16])\n",
      "torch.Size([64, 256, 18, 18])\n",
      "torch.Size([64, 128, 20, 20])\n",
      "torch.Size([64, 128, 22, 22])\n",
      "torch.Size([64, 128, 11, 11])\n",
      "torch.Size([64, 512, 14, 14])\n",
      "torch.Size([64, 256, 16, 16])\n",
      "torch.Size([64, 256, 18, 18])\n",
      "torch.Size([64, 128, 20, 20])\n",
      "torch.Size([64, 128, 22, 22])\n",
      "torch.Size([64, 128, 11, 11])\n",
      "torch.Size([64, 512, 14, 14])\n",
      "torch.Size([64, 256, 16, 16])\n",
      "torch.Size([64, 256, 18, 18])\n",
      "torch.Size([64, 128, 20, 20])\n",
      "torch.Size([64, 128, 22, 22])\n",
      "torch.Size([64, 128, 11, 11])\n",
      "torch.Size([64, 512, 14, 14])\n",
      "torch.Size([64, 256, 16, 16])\n",
      "torch.Size([64, 256, 18, 18])\n",
      "torch.Size([64, 128, 20, 20])\n",
      "torch.Size([64, 128, 22, 22])\n",
      "torch.Size([64, 128, 11, 11])\n"
     ]
    }
   ],
   "source": [
    "# TODO: Run your own classifier here\n",
    "\n",
    "\n",
    "\n",
    "criterion = nn.MultiLabelSoftMarginLoss()\n",
    "# optimizer = torch.optim.SGD(classifier.parameters(), lr=0.01, momentum=0.9)\n",
    "optimizer = torch.optim.Adam(classifier.parameters(), lr=1e-4)\n",
    "\n",
    "classifier, train_losses, val_losses, train_mAPs, val_mAPs = train(classifier, num_epochs, train_loader, val_loader, criterion, optimizer, test_frequency)\n"
   ]
  },
  {
   "cell_type": "code",
   "execution_count": null,
   "metadata": {},
   "outputs": [],
   "source": [
    "plot_losses(train_losses, val_losses, test_frequency, num_epochs)\n",
    "plot_mAP(train_mAPs, val_mAPs, test_frequency, num_epochs)"
   ]
  },
  {
   "cell_type": "code",
   "execution_count": null,
   "metadata": {},
   "outputs": [],
   "source": [
    "mAP_test, test_loss, test_aps = test_classifier(test_loader, classifier, criterion)\n",
    "print(mAP_test)"
   ]
  },
  {
   "cell_type": "code",
   "execution_count": null,
   "metadata": {},
   "outputs": [],
   "source": [
    "torch.save(classifier.state_dict(), './voc_my_best_classifier.pth')\n",
    "output_submission_csv('my_solution.csv', test_aps)"
   ]
  },
  {
   "cell_type": "code",
   "execution_count": null,
   "metadata": {},
   "outputs": [],
   "source": []
  }
 ],
 "metadata": {
  "kernelspec": {
   "display_name": "Python 3 (ipykernel)",
   "language": "python",
   "name": "python3"
  },
  "language_info": {
   "codemirror_mode": {
    "name": "ipython",
    "version": 3
   },
   "file_extension": ".py",
   "mimetype": "text/x-python",
   "name": "python",
   "nbconvert_exporter": "python",
   "pygments_lexer": "ipython3",
   "version": "3.8.8"
  }
 },
 "nbformat": 4,
 "nbformat_minor": 1
}
